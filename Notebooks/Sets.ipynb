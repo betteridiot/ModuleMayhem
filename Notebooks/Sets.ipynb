{
 "cells": [
  {
   "cell_type": "markdown",
   "metadata": {},
   "source": [
    "`set` is a Python Standard Library tool that *quickly* allows the user to hash items and compare the sets. "
   ]
  },
  {
   "cell_type": "code",
   "execution_count": 2,
   "metadata": {
    "collapsed": true
   },
   "outputs": [],
   "source": [
    "# Just making some empty sets to operate with\n",
    "Aset = set()\n",
    "Bset = set()\n",
    "Cset = set()"
   ]
  },
  {
   "cell_type": "markdown",
   "metadata": {},
   "source": [
    "See how I didn't even need to use an `import this` statement?<br>\n",
    "There are two ways to add items to sets:"
   ]
  },
  {
   "cell_type": "code",
   "execution_count": 7,
   "metadata": {
    "collapsed": false
   },
   "outputs": [
    {
     "data": {
      "text/plain": [
       "{(1, 2), 1}"
      ]
     },
     "execution_count": 7,
     "metadata": {},
     "output_type": "execute_result"
    }
   ],
   "source": [
    "# The first\n",
    "testSet = set()\n",
    "testSet.add(1)\n",
    "testSet.add((1,2))\n",
    "testSet"
   ]
  },
  {
   "cell_type": "markdown",
   "metadata": {},
   "source": [
    "The `set.add()` method allows you to add one whole object to the list, **NOT** its constitutive parts. See above how I added a 1 and then the tuple `(1,2)`? You'll see in the printout that both the integer 1 and *tuple* are there. This is fine if you are looking to compare multiple tuples/lists/dicts. However, if you are looking at multiple elements within the tuples or lists, you might want to use method 2"
   ]
  },
  {
   "cell_type": "code",
   "execution_count": 10,
   "metadata": {
    "collapsed": false
   },
   "outputs": [
    {
     "data": {
      "text/plain": [
       "{1, 2, 5, 7}"
      ]
     },
     "execution_count": 10,
     "metadata": {},
     "output_type": "execute_result"
    }
   ],
   "source": [
    "# The second\n",
    "testSet = set()\n",
    "testSet.update((1,))\n",
    "testSet.update((1,2,5,7,1))\n",
    "testSet"
   ]
  },
  {
   "cell_type": "markdown",
   "metadata": {},
   "source": [
    "See, `set.add()` is meant for single objects, while `set.update()` is meant for iterables. If you try to `add` an interable or `update` an non-iterable, you get a error"
   ]
  },
  {
   "cell_type": "code",
   "execution_count": 11,
   "metadata": {
    "collapsed": false
   },
   "outputs": [
    {
     "ename": "TypeError",
     "evalue": "unhashable type: 'list'",
     "output_type": "error",
     "traceback": [
      "\u001b[0;31m---------------------------------------------------------------------------\u001b[0m",
      "\u001b[0;31mTypeError\u001b[0m                                 Traceback (most recent call last)",
      "\u001b[0;32m<ipython-input-11-5dc2901548f5>\u001b[0m in \u001b[0;36m<module>\u001b[0;34m()\u001b[0m\n\u001b[1;32m      1\u001b[0m \u001b[0mtestSet\u001b[0m \u001b[1;33m=\u001b[0m \u001b[0mset\u001b[0m\u001b[1;33m(\u001b[0m\u001b[1;33m)\u001b[0m\u001b[1;33m\u001b[0m\u001b[0m\n\u001b[0;32m----> 2\u001b[0;31m \u001b[0mtestSet\u001b[0m\u001b[1;33m.\u001b[0m\u001b[0madd\u001b[0m\u001b[1;33m(\u001b[0m\u001b[1;33m[\u001b[0m\u001b[1;36m6\u001b[0m\u001b[1;33m,\u001b[0m\u001b[1;36m7\u001b[0m\u001b[1;33m,\u001b[0m\u001b[1;36m8\u001b[0m\u001b[1;33m]\u001b[0m\u001b[1;33m)\u001b[0m\u001b[1;33m\u001b[0m\u001b[0m\n\u001b[0m",
      "\u001b[0;31mTypeError\u001b[0m: unhashable type: 'list'"
     ]
    }
   ],
   "source": [
    "testSet = set()\n",
    "testSet.add([6,7,8])"
   ]
  },
  {
   "cell_type": "code",
   "execution_count": 12,
   "metadata": {
    "collapsed": false
   },
   "outputs": [
    {
     "ename": "TypeError",
     "evalue": "'int' object is not iterable",
     "output_type": "error",
     "traceback": [
      "\u001b[0;31m---------------------------------------------------------------------------\u001b[0m",
      "\u001b[0;31mTypeError\u001b[0m                                 Traceback (most recent call last)",
      "\u001b[0;32m<ipython-input-12-836470d89077>\u001b[0m in \u001b[0;36m<module>\u001b[0;34m()\u001b[0m\n\u001b[0;32m----> 1\u001b[0;31m \u001b[0mtestSet\u001b[0m\u001b[1;33m.\u001b[0m\u001b[0mupdate\u001b[0m\u001b[1;33m(\u001b[0m\u001b[1;36m1\u001b[0m\u001b[1;33m)\u001b[0m\u001b[1;33m\u001b[0m\u001b[0m\n\u001b[0m",
      "\u001b[0;31mTypeError\u001b[0m: 'int' object is not iterable"
     ]
    }
   ],
   "source": [
    "testSet.update(1)"
   ]
  },
  {
   "cell_type": "markdown",
   "metadata": {},
   "source": [
    "Now, *why* are sets important?"
   ]
  },
  {
   "cell_type": "code",
   "execution_count": 17,
   "metadata": {
    "collapsed": false
   },
   "outputs": [
    {
     "name": "stdout",
     "output_type": "stream",
     "text": [
      "Aset: {'a', 'b', 'd', 'c'}\n",
      "Bset: {'g', 'f', 'e'}\n"
     ]
    }
   ],
   "source": [
    "list_of_string_tuples = sorted([(\"a\",\"b\"),(\"c\",\"d\"),(\"b\",\"d\"),(\"e\",\"f\"),(\"f\",\"g\")])\n",
    "First = True\n",
    "for tup in list_of_string_tuples:\n",
    "    # this is used to seed the first set\n",
    "    if First:\n",
    "        Aset.update(tup)\n",
    "        First = False\n",
    "    elif any(i in Aset for i in tup):\n",
    "        Aset.update(tup)\n",
    "    else:\n",
    "        Bset.update(tup)\n",
    "print(\"Aset:\",Aset)\n",
    "print(\"Bset:\",Bset)"
   ]
  },
  {
   "cell_type": "markdown",
   "metadata": {},
   "source": [
    "Now we can play with some set theory"
   ]
  },
  {
   "cell_type": "code",
   "execution_count": 26,
   "metadata": {
    "collapsed": false
   },
   "outputs": [
    {
     "name": "stdout",
     "output_type": "stream",
     "text": [
      "set()\n",
      "{'g', 'e'}\n",
      "{'g', 'z', 'e', 'h'}\n"
     ]
    }
   ],
   "source": [
    "Cset = Aset.union(Bset)\n",
    "Dset = set((\"g\",\"e\",\"h\",\"z\"))\n",
    "print(Aset.intersection(Dset)) # mutually exclusive\n",
    "print(Bset.intersection(Dset))\n",
    "print(Dset.difference(Aset))"
   ]
  },
  {
   "cell_type": "markdown",
   "metadata": {},
   "source": [
    "You can also do boolean logicals of sets"
   ]
  },
  {
   "cell_type": "code",
   "execution_count": 28,
   "metadata": {
    "collapsed": false,
    "scrolled": true
   },
   "outputs": [
    {
     "name": "stdout",
     "output_type": "stream",
     "text": [
      "Bset superset Cset?  True\n",
      "Cset superset Aset?  True\n",
      "Aset superset Bset?  False\n",
      "Dset disjoint Aset?  True\n"
     ]
    }
   ],
   "source": [
    "print(\"Bset superset Cset? \", Bset.issubset(Cset))\n",
    "print(\"Cset superset Aset? \", Cset.issuperset(Aset))\n",
    "print(\"Aset superset Bset? \", Aset.issuperset(Bset))\n",
    "print(\"Dset disjoint Aset? \", Dset.isdisjoint(Aset))"
   ]
  }
 ],
 "metadata": {
  "kernelspec": {
   "display_name": "Python [default]",
   "language": "python",
   "name": "python3"
  },
  "language_info": {
   "codemirror_mode": {
    "name": "ipython",
    "version": 3
   },
   "file_extension": ".py",
   "mimetype": "text/x-python",
   "name": "python",
   "nbconvert_exporter": "python",
   "pygments_lexer": "ipython3",
   "version": "3.5.2"
  }
 },
 "nbformat": 4,
 "nbformat_minor": 2
}

{
 "cells": [
  {
   "cell_type": "markdown",
   "metadata": {},
   "source": [
    "This notebook should be the first in a series with the express puropse to introduce helpful or interesting Python packages to the lab. For this week, we will be exploring the `namedtuple` from the `collections` library. This is a standard library entry, and therefore available to all Python builds without the need to download.\n",
    "\n",
    "A `namedtuple` is a 1-for-1 replacement of a regular tuple that may be present in your code. The point of a named tuple is for code maintenance and readability. Historically, as the author handles tuples, they tend to index the tuple's element positions exactly."
   ]
  },
  {
   "cell_type": "code",
   "execution_count": 3,
   "metadata": {
    "collapsed": false
   },
   "outputs": [
    {
     "name": "stdout",
     "output_type": "stream",
     "text": [
      "a\n"
     ]
    },
    {
     "data": {
      "text/plain": [
       "3"
      ]
     },
     "execution_count": 3,
     "metadata": {},
     "output_type": "execute_result"
    }
   ],
   "source": [
    "# For example\n",
    "bar = ('a', 2, [1,2,3])\n",
    "print(bar[0])\n",
    "bar[1] + 1"
   ]
  },
  {
   "cell_type": "markdown",
   "metadata": {},
   "source": [
    "Now, say that author changes something in the pipeline the forces that tuple to need another column An example would be a tuple that holds the elements for outputting a line of a VCF or BED file. Say the user is only dealing with the `START` and `STOP` positions of the region, but then have to add on a `chr` column to the beginning. Now they have to increment all of their previous tuple indices. With a `namedtuple`, that no longer has to be done."
   ]
  },
  {
   "cell_type": "code",
   "execution_count": 6,
   "metadata": {
    "collapsed": false
   },
   "outputs": [
    {
     "name": "stdout",
     "output_type": "stream",
     "text": [
      "chr1 1 196\n"
     ]
    }
   ],
   "source": [
    "# namedtuple Recipe\n",
    "from collections import namedtuple\n",
    "\n",
    "Foo = namedtuple('Foo', ['chr', 'start', 'stop'])\n",
    "a = Foo(chr = 'chr1', start = 1, stop = 196)\n",
    "print(a.chr, a.start, a.stop)"
   ]
  },
  {
   "cell_type": "markdown",
   "metadata": {},
   "source": [
    "From here on out, the author can reference the named attribute and never have to worry about positional arguments during initialization, or tracking indices. Furhermore, this makes it more readable when you look back at the code and try to figure out what `a[5]` was. In addition to this feature, you can still treat a `namedtuple` as a regular tuple with respect to indexing, slicing, and packing/unpacking as well as knowing it is still an immutable object type."
   ]
  },
  {
   "cell_type": "code",
   "execution_count": 8,
   "metadata": {
    "collapsed": false
   },
   "outputs": [
    {
     "name": "stdout",
     "output_type": "stream",
     "text": [
      "chr1 1 196\n"
     ]
    }
   ],
   "source": [
    "# Tuple unpacking\n",
    "x,y,z = a\n",
    "print(x, y, z)"
   ]
  },
  {
   "cell_type": "code",
   "execution_count": 10,
   "metadata": {
    "collapsed": false
   },
   "outputs": [
    {
     "name": "stdout",
     "output_type": "stream",
     "text": [
      "Foo(chr='chr1', start=1, stop=196)\n"
     ]
    }
   ],
   "source": [
    "# Tuple packing\n",
    "b = Foo(x,y,z)\n",
    "print(b)"
   ]
  },
  {
   "cell_type": "code",
   "execution_count": 13,
   "metadata": {
    "collapsed": false
   },
   "outputs": [
    {
     "name": "stdout",
     "output_type": "stream",
     "text": [
      "1\n",
      "('chr1', 1, 196)\n"
     ]
    }
   ],
   "source": [
    "# Indexing & slicing\n",
    "print(b[1])\n",
    "print(b[:3])"
   ]
  },
  {
   "cell_type": "markdown",
   "metadata": {},
   "source": [
    "#### Conclusion: ####\n",
    "If you plan on other people seeing, reviewing, or using your code *(and face it, as a dry lab, that is what we always want)* consider using `namedtuple`s as your go to tuple object."
   ]
  }
 ],
 "metadata": {
  "anaconda-cloud": {},
  "kernelspec": {
   "display_name": "Python [default]",
   "language": "python",
   "name": "python3"
  },
  "language_info": {
   "codemirror_mode": {
    "name": "ipython",
    "version": 3
   },
   "file_extension": ".py",
   "mimetype": "text/x-python",
   "name": "python",
   "nbconvert_exporter": "python",
   "pygments_lexer": "ipython3",
   "version": "3.5.2"
  }
 },
 "nbformat": 4,
 "nbformat_minor": 2
}

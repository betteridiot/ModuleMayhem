{
 "cells": [
  {
   "cell_type": "markdown",
   "metadata": {},
   "source": [
    "## Fractions ##\n",
    "One of the biggest pitfalls to accuracy in data science is in floating point numbers...specifically *rational numbers*. Yes, everyone can do `1/2.`, but what about `1/3.`? Most of use accept the truncation the computer **has** to do since it cannot store all of the numbers required (infinity). Howeverm the question is more *when* you should let the computer truncate. Using `fractions`, one can store a rational number in a logical (not boolean) way."
   ]
  },
  {
   "cell_type": "code",
   "execution_count": 1,
   "metadata": {
    "collapsed": false
   },
   "outputs": [
    {
     "name": "stdout",
     "output_type": "stream",
     "text": [
      "Standard:  -11/10\n",
      "String Fraction:  3/7\n",
      "String decimal:  -5/4\n",
      "String Scientific:  7/1000000\n",
      "Weird:  2476979795053773/2251799813685248\n"
     ]
    }
   ],
   "source": [
    "from fractions import Fraction\n",
    "\n",
    "'''Fractions take 2 arguments: numerator and/or denominator (didn't see that one coming). \n",
    "However, it can take many types of structures to define the fractions'''\n",
    "\n",
    "print('Standard: ', Fraction(-11, 10))\n",
    "print('String Fraction: ', Fraction('3/7'))\n",
    "print('String decimal: ', Fraction('-1.25'))\n",
    "print('String Scientific: ', Fraction('7e-6'))\n",
    "print('Weird: ', Fraction(1.1))"
   ]
  },
  {
   "cell_type": "markdown",
   "metadata": {},
   "source": [
    "The last one is weird in how it handles `1.1`. As it is a decimal, one can use the `decimal` module to help evaluate it."
   ]
  },
  {
   "cell_type": "code",
   "execution_count": 2,
   "metadata": {
    "collapsed": false
   },
   "outputs": [
    {
     "name": "stdout",
     "output_type": "stream",
     "text": [
      "Weird:  11/10\n"
     ]
    }
   ],
   "source": [
    "from decimal import Decimal\n",
    "print('Weird: ', Fraction(Decimal('1.1')))"
   ]
  },
  {
   "cell_type": "markdown",
   "metadata": {},
   "source": [
    "What is best, is that you can still do mathematical operations on Fractions."
   ]
  },
  {
   "cell_type": "code",
   "execution_count": 3,
   "metadata": {
    "collapsed": false
   },
   "outputs": [
    {
     "name": "stdout",
     "output_type": "stream",
     "text": [
      "26/3\n",
      "2/9\n"
     ]
    }
   ],
   "source": [
    "frac = Fraction(2,3)\n",
    "print(13*frac)\n",
    "print(frac/3)"
   ]
  }
 ],
 "metadata": {
  "kernelspec": {
   "display_name": "Python [default]",
   "language": "python",
   "name": "python3"
  },
  "language_info": {
   "codemirror_mode": {
    "name": "ipython",
    "version": 3
   },
   "file_extension": ".py",
   "mimetype": "text/x-python",
   "name": "python",
   "nbconvert_exporter": "python",
   "pygments_lexer": "ipython3",
   "version": "3.5.2"
  }
 },
 "nbformat": 4,
 "nbformat_minor": 2
}

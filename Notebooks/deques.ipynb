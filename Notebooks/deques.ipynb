{
 "cells": [
  {
   "cell_type": "markdown",
   "metadata": {},
   "source": [
    "First, I want to introduce an interesting website to anyone that is interested in knowing what is *really* happening when your code runs. The site is [Python Tutor](http://pythontutor.com/). You enter your command, and just to the right of the command you see *how* the code is executed. This is helpful in finding bugs and what not.<br><br>\n",
    "\n",
    "Second, in conjunction with the `set` introduction, this week's PotW is a bigger survey into the **Standard Library**. One of the biggest boons to a programmer is running the most bulletproof, optimized, and best supported code there is to offer. This is one of the reasons that `numpy` comes standard in most of our toolbelts. That said, there is no better example of this than the standard library. These tools were built by the authors/maintainers of the Python language. The saddest part about it though is that most are more than happy to run everything in lists and be done. However, the tools discussed today have the potential to make your code *faster*, *more accurate*, and *easier* (to read, write, and execute). With no further ado, here are the \"packages\" of the week:"
   ]
  },
  {
   "cell_type": "markdown",
   "metadata": {},
   "source": [
    "## Deques ##\n",
    "Deques (pronounced like 'deck') aren't the most elaborate data structure, but in bioinformatics, it is a tool of extreme power and ease of use. Think of a `deque` as a `list`, but with super powers. In Python, it is actually faster to `append()` or `extend()` a list than to make a new list from an old one."
   ]
  },
  {
   "cell_type": "code",
   "execution_count": 18,
   "metadata": {
    "collapsed": false
   },
   "outputs": [
    {
     "name": "stdout",
     "output_type": "stream",
     "text": [
      "lstA:  [1, 9, 25, 49, 81, 121, 169, 225, 289, 361, 441, 529, 625, 729, 841, 961, 1089, 1225, 1369, 1521, 1681, 1849, 2025, 2209, 2401]\n",
      "lstB:  [1, 9, 25, 49, 81, 121, 169, 225, 289, 361, 441, 529, 625, 729, 841, 961, 1089, 1225, 1369, 1521, 1681, 1849, 2025, 2209, 2401]\n",
      "lstC:  [1, 9, 25, 49, 81, 121, 169, 225, 289, 361, 441, 529, 625, 729, 841, 961, 1089, 1225, 1369, 1521, 1681, 1849, 2025, 2209, 2401]\n"
     ]
    }
   ],
   "source": [
    "\"\"\" Generator function. Note: range() in 2.7 makes a list, while xrange() makes a generator.\n",
    "In 3.x, xrange() is now the default range() function.\"\"\"\n",
    "xs = range(1,50,2) \n",
    "\n",
    "# Good\n",
    "lstA = [x**2 for x in xs]\n",
    "\n",
    "# Good\n",
    "lstB = []\n",
    "for x in xs:\n",
    "    lstB.append(x**2)\n",
    "\n",
    "# Bad\n",
    "lstC = []\n",
    "for x in xs:\n",
    "    lstC = lstC + list((x**2,))\n",
    "\n",
    "print(\"lstA: \",lstA)\n",
    "print(\"lstB: \",lstB)\n",
    "print(\"lstC: \",lstC)"
   ]
  },
  {
   "cell_type": "markdown",
   "metadata": {},
   "source": [
    "An extension to the above point is that it is faster to append/extend to a list then *reverse* it than it is to insert at the beginning of the list.\n",
    "However, in bioinformatics, we often need a *sliding window*. This is a code word for a FIFO (first in, first out) operation.  Using helpful utilities like `islice()` are nice, but a `deque` is a sliding window with no extra fuss. "
   ]
  },
  {
   "cell_type": "code",
   "execution_count": 40,
   "metadata": {
    "collapsed": false
   },
   "outputs": [],
   "source": [
    "from collections import deque"
   ]
  },
  {
   "cell_type": "markdown",
   "metadata": {},
   "source": [
    "A `deque` operates just like a `list` with 2 major caveats: 1) you can set it to have a max length (thus setting your window size), and 2) you can `rotate` values inside the `deque`. Admittedly, the second point isn't *really* helpful for our immediate purposes. With just a bit of creativity, one can make a simple sliding window with a `deque`, and adding in `islice` you can make your sliding window as complicated as you want."
   ]
  },
  {
   "cell_type": "code",
   "execution_count": 63,
   "metadata": {
    "collapsed": false
   },
   "outputs": [
    {
     "name": "stdout",
     "output_type": "stream",
     "text": [
      "sum:  400 deque([1, 3, 5, 7, 9, 11, 13, 15, 17, 19, 21, 23, 25, 27, 29, 31, 33, 35, 37, 39], maxlen=20)\n",
      "sum:  440 deque([3, 5, 7, 9, 11, 13, 15, 17, 19, 21, 23, 25, 27, 29, 31, 33, 35, 37, 39, 41], maxlen=20)\n",
      "sum:  480 deque([5, 7, 9, 11, 13, 15, 17, 19, 21, 23, 25, 27, 29, 31, 33, 35, 37, 39, 41, 43], maxlen=20)\n",
      "sum:  520 deque([7, 9, 11, 13, 15, 17, 19, 21, 23, 25, 27, 29, 31, 33, 35, 37, 39, 41, 43, 45], maxlen=20)\n",
      "sum:  560 deque([9, 11, 13, 15, 17, 19, 21, 23, 25, 27, 29, 31, 33, 35, 37, 39, 41, 43, 45, 47], maxlen=20)\n",
      "sum:  600 deque([11, 13, 15, 17, 19, 21, 23, 25, 27, 29, 31, 33, 35, 37, 39, 41, 43, 45, 47, 49], maxlen=20)\n",
      "sum:  21 deque([1, 7, 13], maxlen=3)\n",
      "sum:  39 deque([7, 13, 19], maxlen=3)\n",
      "sum:  57 deque([13, 19, 25], maxlen=3)\n",
      "sum:  75 deque([19, 25, 31], maxlen=3)\n",
      "sum:  93 deque([25, 31, 37], maxlen=3)\n",
      "sum:  111 deque([31, 37, 43], maxlen=3)\n",
      "sum:  129 deque([37, 43, 49], maxlen=3)\n"
     ]
    }
   ],
   "source": [
    "xs = range(1,50,2)\n",
    "\n",
    "# Initialize the deque with desired window size\n",
    "deckA = deque(maxlen = 20)\n",
    "\n",
    "# Deques can take 2 arguments: an iterable and/or max length)\n",
    "\n",
    "# Slide away\n",
    "for x in xs:\n",
    "    if len(deckA) >= 19:\n",
    "        deckA.append(x)\n",
    "        print('sum: ',sum(deckA), deckA)\n",
    "    else:\n",
    "        deckA.append(x)\n",
    "\n",
    "# Overlapping window\n",
    "from itertools import islice\n",
    "\n",
    "slicer = islice(xs, 0, len(xs), 3)\n",
    "deckB = deque(maxlen = 3)\n",
    "for i in slicer:\n",
    "    if len(deckB) >=2:\n",
    "        deckB.append(i)\n",
    "        print('sum: ',sum(deckB), deckB)\n",
    "    else:\n",
    "        deckB.append(i)\n",
    "    "
   ]
  }
 ],
 "metadata": {
  "kernelspec": {
   "display_name": "Python [default]",
   "language": "python",
   "name": "python3"
  },
  "language_info": {
   "codemirror_mode": {
    "name": "ipython",
    "version": 3
   },
   "file_extension": ".py",
   "mimetype": "text/x-python",
   "name": "python",
   "nbconvert_exporter": "python",
   "pygments_lexer": "ipython3",
   "version": "3.5.2"
  }
 },
 "nbformat": 4,
 "nbformat_minor": 2
}

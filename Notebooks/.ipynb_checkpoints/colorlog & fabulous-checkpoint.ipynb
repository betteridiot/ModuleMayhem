{
 "cells": [
  {
   "cell_type": "markdown",
   "metadata": {},
   "source": [
    "### `colorlog` ###\n",
    "The first line of defense in the war against bugs in your program is the mighty `print()` function. We are all first-class warriors with this weapon. However, when you start running though a big iteration or running specific test frameworks, a simple `print()` often doesn't cut it. With a *little* bit of boilerplate code, you can add a little extra to your CLI (Command Line Interface). This is where `colorlog` comes in. The first step is to install it (and its dependencies-colorama)."
   ]
  },
  {
   "cell_type": "code",
   "execution_count": null,
   "metadata": {
    "collapsed": true
   },
   "outputs": [],
   "source": [
    "conda install colorlog\n",
    "# or \n",
    "pip install colorlog"
   ]
  },
  {
   "cell_type": "markdown",
   "metadata": {},
   "source": [
    "Now comes a little bit of boilerplate code to get you up and running."
   ]
  },
  {
   "cell_type": "code",
   "execution_count": 3,
   "metadata": {
    "collapsed": true
   },
   "outputs": [],
   "source": [
    "import colorlog \n",
    "\n",
    "logger = colorlog.getLogger() # Instantiate the logger\n",
    "logger.setLevel(colorlog.colorlog.logging.DEBUG) # Set the default logging level\n",
    "\n",
    "handler = colorlog.StreamHandler() # Middle-man for logging output\n",
    "handler.setFormatter(colorlog.ColoredFormatter()) # Set the color scheme (this you can change how you see fit)\n",
    "logger.addHandler(handler) # Instantiate the handler"
   ]
  },
  {
   "cell_type": "markdown",
   "metadata": {},
   "source": [
    "When I first saw this, I asked myself \"Why don't I just use print, this seems complicated?\" In a way, it is. However, using a logger (which is a standard library utility) allows you to output a lot more to the terminal, and allows handling output that you may or may not want to save in a log file. While PBS may save any of your `stdout` to its own log/error file, you may not have that luxury every where...especially when prototyping or on your own machine.\n",
    "<br><br>\n",
    "**Back to the code**, after typing the boilerplate code above, you can simply use the calls shown below to make eye catching and meaningful terminal output. There is one ***caveat*** to this approach though: the output of colorlog is to the terminal and cannot be seen in a REPL (Read–Evaluate–Print Loop) environment. "
   ]
  },
  {
   "cell_type": "code",
   "execution_count": null,
   "metadata": {
    "collapsed": true
   },
   "outputs": [],
   "source": [
    "logger.debug(\"Debug message\")\n",
    "logger.info(\"Information message\")\n",
    "logger.warning(\"Warning message\")\n",
    "logger.error(\"Error message\")\n",
    "logger.critical(\"Critical message\")"
   ]
  },
  {
   "cell_type": "markdown",
   "metadata": {},
   "source": [
    "The above code will print to the command line like this ![colorlog](https://d3ansictanv2wj.cloudfront.net/tply_0502-17acd0cb730805eb8d1981df61842d3f.png)"
   ]
  },
  {
   "cell_type": "markdown",
   "metadata": {},
   "source": [
    "The colors for `logger.debug() ... logger.critical()` are all defined in the `handler.setFormatter(colorlog.ColoredFormatter())` call. You can set these yourself if you want or keep the defaults.\n",
    "<br><br>\n",
    "If you are just going to be working in the REPL or you don't really care about logging, **AND** you will only be working in the *Unix* environment, you can use a package called:\n",
    "### `fabulous` ###\n",
    "**Note**: This does not work on Windows, and I am too stingy with my memory to install the linux build of python in my Ubuntu bash. If you *run* this on a MacOS or Linux environment, it will work."
   ]
  },
  {
   "cell_type": "code",
   "execution_count": 6,
   "metadata": {
    "collapsed": false
   },
   "outputs": [
    {
     "ename": "ModuleNotFoundError",
     "evalue": "No module named 'fcntl'",
     "output_type": "error",
     "traceback": [
      "\u001b[0;31m---------------------------------------------------------------------------\u001b[0m",
      "\u001b[0;31mModuleNotFoundError\u001b[0m                       Traceback (most recent call last)",
      "\u001b[0;32m<ipython-input-6-7aa5c58c4292>\u001b[0m in \u001b[0;36m<module>\u001b[0;34m()\u001b[0m\n\u001b[0;32m----> 1\u001b[0;31m \u001b[1;32mfrom\u001b[0m \u001b[0mfabulous\u001b[0m\u001b[1;33m.\u001b[0m\u001b[0mcolor\u001b[0m \u001b[1;32mimport\u001b[0m \u001b[0mbold\u001b[0m\u001b[1;33m,\u001b[0m \u001b[0mred\u001b[0m\u001b[1;33m,\u001b[0m \u001b[0mblink\u001b[0m\u001b[1;33m\u001b[0m\u001b[0m\n\u001b[0m\u001b[1;32m      2\u001b[0m \u001b[1;33m\u001b[0m\u001b[0m\n\u001b[1;32m      3\u001b[0m \u001b[0mprint\u001b[0m\u001b[1;33m(\u001b[0m\u001b[0mbold\u001b[0m\u001b[1;33m(\u001b[0m\u001b[0mred\u001b[0m\u001b[1;33m(\u001b[0m\u001b[0mblink\u001b[0m\u001b[1;33m(\u001b[0m\u001b[1;34m'Hello World'\u001b[0m\u001b[1;33m)\u001b[0m\u001b[1;33m)\u001b[0m\u001b[1;33m)\u001b[0m\u001b[1;33m)\u001b[0m\u001b[1;33m\u001b[0m\u001b[0m\n",
      "\u001b[0;32mC:\\ProgramData\\Anaconda3\\lib\\site-packages\\fabulous\\color.py\u001b[0m in \u001b[0;36m<module>\u001b[0;34m()\u001b[0m\n\u001b[1;32m     29\u001b[0m \u001b[1;33m\u001b[0m\u001b[0m\n\u001b[1;32m     30\u001b[0m \u001b[1;32mfrom\u001b[0m \u001b[0mfabulous\u001b[0m\u001b[1;33m.\u001b[0m\u001b[0mcompatibility\u001b[0m \u001b[1;32mimport\u001b[0m \u001b[0mprinty\u001b[0m\u001b[1;33m\u001b[0m\u001b[0m\n\u001b[0;32m---> 31\u001b[0;31m \u001b[1;32mfrom\u001b[0m \u001b[0mfabulous\u001b[0m \u001b[1;32mimport\u001b[0m \u001b[0mutils\u001b[0m\u001b[1;33m,\u001b[0m \u001b[0mxterm256\u001b[0m\u001b[1;33m,\u001b[0m \u001b[0mgrapefruit\u001b[0m\u001b[1;33m\u001b[0m\u001b[0m\n\u001b[0m\u001b[1;32m     32\u001b[0m \u001b[1;33m\u001b[0m\u001b[0m\n\u001b[1;32m     33\u001b[0m \u001b[1;32mtry\u001b[0m\u001b[1;33m:\u001b[0m\u001b[1;33m\u001b[0m\u001b[0m\n",
      "\u001b[0;32mC:\\ProgramData\\Anaconda3\\lib\\site-packages\\fabulous\\utils.py\u001b[0m in \u001b[0;36m<module>\u001b[0;34m()\u001b[0m\n\u001b[1;32m     23\u001b[0m \u001b[1;32mimport\u001b[0m \u001b[0mos\u001b[0m\u001b[1;33m\u001b[0m\u001b[0m\n\u001b[1;32m     24\u001b[0m \u001b[1;32mimport\u001b[0m \u001b[0msys\u001b[0m\u001b[1;33m\u001b[0m\u001b[0m\n\u001b[0;32m---> 25\u001b[0;31m \u001b[1;32mimport\u001b[0m \u001b[0mfcntl\u001b[0m\u001b[1;33m\u001b[0m\u001b[0m\n\u001b[0m\u001b[1;32m     26\u001b[0m \u001b[1;32mimport\u001b[0m \u001b[0mstruct\u001b[0m\u001b[1;33m\u001b[0m\u001b[0m\n\u001b[1;32m     27\u001b[0m \u001b[1;32mimport\u001b[0m \u001b[0mtermios\u001b[0m\u001b[1;33m\u001b[0m\u001b[0m\n",
      "\u001b[0;31mModuleNotFoundError\u001b[0m: No module named 'fcntl'"
     ]
    }
   ],
   "source": [
    "from fabulous.color import bold, red, blink\n",
    "\n",
    "print(bold(red(blink('Hello World'))))"
   ]
  }
 ],
 "metadata": {
  "kernelspec": {
   "display_name": "Python 3",
   "language": "python",
   "name": "python3"
  },
  "language_info": {
   "codemirror_mode": {
    "name": "ipython",
    "version": 3
   },
   "file_extension": ".py",
   "mimetype": "text/x-python",
   "name": "python",
   "nbconvert_exporter": "python",
   "pygments_lexer": "ipython3",
   "version": "3.6.0"
  }
 },
 "nbformat": 4,
 "nbformat_minor": 2
}

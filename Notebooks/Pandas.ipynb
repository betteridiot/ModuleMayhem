{
 "cells": [
  {
   "cell_type": "markdown",
   "metadata": {},
   "source": [
    "Today's *Package-of-the-Week* is probably one that most of you have already encountered before. However, to setup for next week's pacakge, I want to do a brief introduction to it just in case. \n",
    "Here is the setup:\n",
    "Anaconda build of Python 2.7/3.x\n",
    "**or**\n",
    "Python 2.7/3.x\n",
    "pip install numpy\n",
    "pip install matplotlib\n",
    "pip install pandas"
   ]
  },
  {
   "cell_type": "markdown",
   "metadata": {},
   "source": [
    "That's right, our package is **PANDAS**. For anyone that regularly uses R, pandas will make you feel right at home. However, since we are operating in a Python environment, it may take a little bit to change your mindset from a Numpy one to a Pandas one. Just like FORTRAN, C/C++, and native R, Pandas is a *column-based* architecture. Unlike Numpy, Pandas allows for column & row names (this is the big similarity to R). Whereas Numpy uses `np.array`s, Pandas used `pd.DataFrame`s. This right here should also make R users feel a little bit more at home. The fun thing about Pandas is that it kind of ties both the R world and the Numpy world together. It acts and feels like R, but operates on a Numpy backend. Furthermore, it introduces an easier way to inject `NaN` values into your data, because we all know that 0 is not a suitable number for missing values. "
   ]
  },
  {
   "cell_type": "code",
   "execution_count": 1,
   "metadata": {
    "collapsed": true
   },
   "outputs": [],
   "source": [
    "# Our dependencies for this intro\n",
    "import numpy as np\n",
    "import matplotlib.pyplot as plt\n",
    "import pandas as pd"
   ]
  },
  {
   "cell_type": "code",
   "execution_count": 12,
   "metadata": {
    "collapsed": false
   },
   "outputs": [
    {
     "data": {
      "text/html": [
       "<div>\n",
       "<table border=\"1\" class=\"dataframe\">\n",
       "  <thead>\n",
       "    <tr style=\"text-align: right;\">\n",
       "      <th></th>\n",
       "      <th>1</th>\n",
       "      <th>2</th>\n",
       "      <th>3</th>\n",
       "    </tr>\n",
       "  </thead>\n",
       "  <tbody>\n",
       "    <tr>\n",
       "      <th>a</th>\n",
       "      <td>2.7</td>\n",
       "      <td>3.2</td>\n",
       "      <td>0.8</td>\n",
       "    </tr>\n",
       "    <tr>\n",
       "      <th>b</th>\n",
       "      <td>NaN</td>\n",
       "      <td>17.6</td>\n",
       "      <td>5.1</td>\n",
       "    </tr>\n",
       "  </tbody>\n",
       "</table>\n",
       "</div>"
      ],
      "text/plain": [
       "     1     2    3\n",
       "a  2.7   3.2  0.8\n",
       "b  NaN  17.6  5.1"
      ]
     },
     "execution_count": 12,
     "metadata": {},
     "output_type": "execute_result"
    }
   ],
   "source": [
    "df1 = pd.DataFrame( [[2.7,3.2,0.8],[np.nan, 17.6, 5.1]], index = ['a','b'], columns = ['1', '2','3'], dtype = 'float64')\n",
    "df1"
   ]
  },
  {
   "cell_type": "markdown",
   "metadata": {},
   "source": [
    "First, just like R, you *do not* have to initialize with index and column names. However, as seen above, you can specify them if you want. Second, you may have noticed the `dtype` parameter. While Python is a strongly typed language, setting your `DataFrame` to a specific type can help enforce standards in your data. If you have accidentally concatenated a row of string number into a really long string number instead of summing them up, you know what I mean. However, you *do not* have to use `dytpe` in your initialization if you do not want to. `DataFrames` are *dynamically* typed by **column**. Unlike Numpy, column 1 can be strings, while column 2 can be floats, while column 3 can be integers. You do not have to have the same datatype throughout the whole `DataFrame`."
   ]
  },
  {
   "cell_type": "code",
   "execution_count": 30,
   "metadata": {
    "collapsed": false
   },
   "outputs": [
    {
     "data": {
      "text/html": [
       "<div>\n",
       "<table border=\"1\" class=\"dataframe\">\n",
       "  <thead>\n",
       "    <tr style=\"text-align: right;\">\n",
       "      <th></th>\n",
       "      <th>0</th>\n",
       "      <th>1</th>\n",
       "      <th>2</th>\n",
       "    </tr>\n",
       "  </thead>\n",
       "  <tbody>\n",
       "    <tr>\n",
       "      <th>0</th>\n",
       "      <td>test</td>\n",
       "      <td>7</td>\n",
       "      <td>0.666667</td>\n",
       "    </tr>\n",
       "    <tr>\n",
       "      <th>1</th>\n",
       "      <td>best</td>\n",
       "      <td>100</td>\n",
       "      <td>3.140000</td>\n",
       "    </tr>\n",
       "  </tbody>\n",
       "</table>\n",
       "</div>"
      ],
      "text/plain": [
       "      0    1         2\n",
       "0  test    7  0.666667\n",
       "1  best  100  3.140000"
      ]
     },
     "execution_count": 30,
     "metadata": {},
     "output_type": "execute_result"
    }
   ],
   "source": [
    "df2 = pd.DataFrame([['test', int(7), float(2/3)], ['best', int(100), float(3.14)]])\n",
    "df2"
   ]
  },
  {
   "cell_type": "markdown",
   "metadata": {},
   "source": [
    "Taking the above example, I can go back and add in the column and index(row) names later, if I want."
   ]
  },
  {
   "cell_type": "code",
   "execution_count": 31,
   "metadata": {
    "collapsed": false
   },
   "outputs": [
    {
     "data": {
      "text/html": [
       "<div>\n",
       "<table border=\"1\" class=\"dataframe\">\n",
       "  <thead>\n",
       "    <tr style=\"text-align: right;\">\n",
       "      <th></th>\n",
       "      <th>a</th>\n",
       "      <th>b</th>\n",
       "      <th>c</th>\n",
       "    </tr>\n",
       "  </thead>\n",
       "  <tbody>\n",
       "    <tr>\n",
       "      <th>0</th>\n",
       "      <td>test</td>\n",
       "      <td>7</td>\n",
       "      <td>0.666667</td>\n",
       "    </tr>\n",
       "    <tr>\n",
       "      <th>1</th>\n",
       "      <td>best</td>\n",
       "      <td>100</td>\n",
       "      <td>3.140000</td>\n",
       "    </tr>\n",
       "  </tbody>\n",
       "</table>\n",
       "</div>"
      ],
      "text/plain": [
       "      a    b         c\n",
       "0  test    7  0.666667\n",
       "1  best  100  3.140000"
      ]
     },
     "execution_count": 31,
     "metadata": {},
     "output_type": "execute_result"
    }
   ],
   "source": [
    "df2.columns = ['a','b','c']\n",
    "df2"
   ]
  },
  {
   "cell_type": "markdown",
   "metadata": {},
   "source": [
    "The reason for naming columns is just like in R. I can now call on those columns specifically."
   ]
  },
  {
   "cell_type": "code",
   "execution_count": 32,
   "metadata": {
    "collapsed": false
   },
   "outputs": [
    {
     "name": "stdout",
     "output_type": "stream",
     "text": [
      "0      7\n",
      "1    100\n",
      "Name: b, dtype: int64\n"
     ]
    }
   ],
   "source": [
    "print(df2.b)"
   ]
  },
  {
   "cell_type": "markdown",
   "metadata": {},
   "source": [
    "And it lets you slice through the dataset a little easier. Slicing `DataFrames` was actually one of the first stumbling blocks for me. There are essentially 3 ways to do it:"
   ]
  },
  {
   "cell_type": "code",
   "execution_count": 37,
   "metadata": {
    "collapsed": false
   },
   "outputs": [
    {
     "data": {
      "text/plain": [
       "0      7\n",
       "1    100\n",
       "Name: b, dtype: int64"
      ]
     },
     "execution_count": 37,
     "metadata": {},
     "output_type": "execute_result"
    }
   ],
   "source": [
    "df2.b # we have already seen this"
   ]
  },
  {
   "cell_type": "code",
   "execution_count": 38,
   "metadata": {
    "collapsed": false
   },
   "outputs": [
    {
     "data": {
      "text/plain": [
       "b     100\n",
       "c    3.14\n",
       "Name: 1, dtype: object"
      ]
     },
     "execution_count": 38,
     "metadata": {},
     "output_type": "execute_result"
    }
   ],
   "source": [
    "df2.loc[1, 'b':'c']"
   ]
  },
  {
   "cell_type": "markdown",
   "metadata": {},
   "source": [
    "The `.loc` method allows slicing on column names. THis is helpful if you want to pull out a specific subset of columns (e.g. certain BAM files)"
   ]
  },
  {
   "cell_type": "code",
   "execution_count": 39,
   "metadata": {
    "collapsed": false
   },
   "outputs": [
    {
     "name": "stdout",
     "output_type": "stream",
     "text": [
      "      a    b\n",
      "0  test    7\n",
      "1  best  100\n"
     ]
    }
   ],
   "source": [
    "df2.ix[:,0:2]"
   ]
  },
  {
   "cell_type": "markdown",
   "metadata": {},
   "source": [
    "The `.ix` method allows for slicing on string name or index number. This is helpful if you want a subset of the data, but it is too large to know specific column names or you have not named the columns logically (e.g. all rows after the BED region)"
   ]
  },
  {
   "cell_type": "markdown",
   "metadata": {},
   "source": [
    "However, you can always subset the data in a more heuristic fashion by using conditions. This method is very similar to R & MATLAB."
   ]
  },
  {
   "cell_type": "code",
   "execution_count": 46,
   "metadata": {
    "collapsed": false
   },
   "outputs": [
    {
     "data": {
      "text/html": [
       "<div>\n",
       "<table border=\"1\" class=\"dataframe\">\n",
       "  <thead>\n",
       "    <tr style=\"text-align: right;\">\n",
       "      <th></th>\n",
       "      <th>0</th>\n",
       "      <th>1</th>\n",
       "      <th>2</th>\n",
       "      <th>3</th>\n",
       "      <th>4</th>\n",
       "      <th>5</th>\n",
       "      <th>6</th>\n",
       "      <th>7</th>\n",
       "      <th>8</th>\n",
       "      <th>9</th>\n",
       "      <th>10</th>\n",
       "      <th>11</th>\n",
       "    </tr>\n",
       "  </thead>\n",
       "  <tbody>\n",
       "    <tr>\n",
       "      <th>0</th>\n",
       "      <td>NaN</td>\n",
       "      <td>0.199613</td>\n",
       "      <td>NaN</td>\n",
       "      <td>NaN</td>\n",
       "      <td>NaN</td>\n",
       "      <td>0.672369</td>\n",
       "      <td>0.014872</td>\n",
       "      <td>NaN</td>\n",
       "      <td>1.165672</td>\n",
       "      <td>1.167680</td>\n",
       "      <td>NaN</td>\n",
       "      <td>NaN</td>\n",
       "    </tr>\n",
       "    <tr>\n",
       "      <th>1</th>\n",
       "      <td>NaN</td>\n",
       "      <td>NaN</td>\n",
       "      <td>NaN</td>\n",
       "      <td>0.479778</td>\n",
       "      <td>NaN</td>\n",
       "      <td>NaN</td>\n",
       "      <td>0.793882</td>\n",
       "      <td>1.053494</td>\n",
       "      <td>0.358845</td>\n",
       "      <td>NaN</td>\n",
       "      <td>NaN</td>\n",
       "      <td>NaN</td>\n",
       "    </tr>\n",
       "    <tr>\n",
       "      <th>2</th>\n",
       "      <td>NaN</td>\n",
       "      <td>NaN</td>\n",
       "      <td>0.466514</td>\n",
       "      <td>NaN</td>\n",
       "      <td>0.392564</td>\n",
       "      <td>NaN</td>\n",
       "      <td>NaN</td>\n",
       "      <td>NaN</td>\n",
       "      <td>NaN</td>\n",
       "      <td>0.016407</td>\n",
       "      <td>0.125013</td>\n",
       "      <td>NaN</td>\n",
       "    </tr>\n",
       "    <tr>\n",
       "      <th>3</th>\n",
       "      <td>1.065329</td>\n",
       "      <td>0.761578</td>\n",
       "      <td>1.411689</td>\n",
       "      <td>NaN</td>\n",
       "      <td>NaN</td>\n",
       "      <td>0.078112</td>\n",
       "      <td>0.987842</td>\n",
       "      <td>0.706774</td>\n",
       "      <td>1.142488</td>\n",
       "      <td>NaN</td>\n",
       "      <td>NaN</td>\n",
       "      <td>0.422783</td>\n",
       "    </tr>\n",
       "    <tr>\n",
       "      <th>4</th>\n",
       "      <td>0.170736</td>\n",
       "      <td>0.986005</td>\n",
       "      <td>NaN</td>\n",
       "      <td>1.996517</td>\n",
       "      <td>NaN</td>\n",
       "      <td>0.184788</td>\n",
       "      <td>0.251123</td>\n",
       "      <td>1.025817</td>\n",
       "      <td>NaN</td>\n",
       "      <td>NaN</td>\n",
       "      <td>NaN</td>\n",
       "      <td>NaN</td>\n",
       "    </tr>\n",
       "    <tr>\n",
       "      <th>5</th>\n",
       "      <td>0.017775</td>\n",
       "      <td>1.044958</td>\n",
       "      <td>1.629828</td>\n",
       "      <td>NaN</td>\n",
       "      <td>0.781419</td>\n",
       "      <td>NaN</td>\n",
       "      <td>NaN</td>\n",
       "      <td>NaN</td>\n",
       "      <td>NaN</td>\n",
       "      <td>NaN</td>\n",
       "      <td>0.909923</td>\n",
       "      <td>1.480481</td>\n",
       "    </tr>\n",
       "    <tr>\n",
       "      <th>6</th>\n",
       "      <td>0.742156</td>\n",
       "      <td>NaN</td>\n",
       "      <td>NaN</td>\n",
       "      <td>0.110549</td>\n",
       "      <td>NaN</td>\n",
       "      <td>NaN</td>\n",
       "      <td>NaN</td>\n",
       "      <td>NaN</td>\n",
       "      <td>1.324470</td>\n",
       "      <td>NaN</td>\n",
       "      <td>0.952122</td>\n",
       "      <td>0.602388</td>\n",
       "    </tr>\n",
       "    <tr>\n",
       "      <th>7</th>\n",
       "      <td>0.044793</td>\n",
       "      <td>0.884929</td>\n",
       "      <td>NaN</td>\n",
       "      <td>NaN</td>\n",
       "      <td>NaN</td>\n",
       "      <td>0.275956</td>\n",
       "      <td>0.883193</td>\n",
       "      <td>NaN</td>\n",
       "      <td>1.108868</td>\n",
       "      <td>NaN</td>\n",
       "      <td>0.525370</td>\n",
       "      <td>NaN</td>\n",
       "    </tr>\n",
       "    <tr>\n",
       "      <th>8</th>\n",
       "      <td>NaN</td>\n",
       "      <td>0.814576</td>\n",
       "      <td>NaN</td>\n",
       "      <td>NaN</td>\n",
       "      <td>0.840941</td>\n",
       "      <td>0.529366</td>\n",
       "      <td>0.916085</td>\n",
       "      <td>0.337038</td>\n",
       "      <td>NaN</td>\n",
       "      <td>NaN</td>\n",
       "      <td>0.680907</td>\n",
       "      <td>NaN</td>\n",
       "    </tr>\n",
       "    <tr>\n",
       "      <th>9</th>\n",
       "      <td>NaN</td>\n",
       "      <td>0.902647</td>\n",
       "      <td>0.788422</td>\n",
       "      <td>NaN</td>\n",
       "      <td>NaN</td>\n",
       "      <td>NaN</td>\n",
       "      <td>1.014236</td>\n",
       "      <td>NaN</td>\n",
       "      <td>NaN</td>\n",
       "      <td>0.040980</td>\n",
       "      <td>NaN</td>\n",
       "      <td>1.208247</td>\n",
       "    </tr>\n",
       "    <tr>\n",
       "      <th>10</th>\n",
       "      <td>NaN</td>\n",
       "      <td>NaN</td>\n",
       "      <td>0.475467</td>\n",
       "      <td>NaN</td>\n",
       "      <td>NaN</td>\n",
       "      <td>NaN</td>\n",
       "      <td>1.200573</td>\n",
       "      <td>1.927783</td>\n",
       "      <td>0.130313</td>\n",
       "      <td>1.462440</td>\n",
       "      <td>0.726165</td>\n",
       "      <td>NaN</td>\n",
       "    </tr>\n",
       "    <tr>\n",
       "      <th>11</th>\n",
       "      <td>NaN</td>\n",
       "      <td>NaN</td>\n",
       "      <td>0.441281</td>\n",
       "      <td>NaN</td>\n",
       "      <td>0.343866</td>\n",
       "      <td>0.457903</td>\n",
       "      <td>NaN</td>\n",
       "      <td>NaN</td>\n",
       "      <td>0.908290</td>\n",
       "      <td>NaN</td>\n",
       "      <td>NaN</td>\n",
       "      <td>0.881476</td>\n",
       "    </tr>\n",
       "    <tr>\n",
       "      <th>12</th>\n",
       "      <td>0.369572</td>\n",
       "      <td>1.366119</td>\n",
       "      <td>1.242936</td>\n",
       "      <td>0.765719</td>\n",
       "      <td>NaN</td>\n",
       "      <td>NaN</td>\n",
       "      <td>0.762103</td>\n",
       "      <td>NaN</td>\n",
       "      <td>NaN</td>\n",
       "      <td>1.367570</td>\n",
       "      <td>NaN</td>\n",
       "      <td>0.624005</td>\n",
       "    </tr>\n",
       "    <tr>\n",
       "      <th>13</th>\n",
       "      <td>0.000105</td>\n",
       "      <td>NaN</td>\n",
       "      <td>NaN</td>\n",
       "      <td>0.349155</td>\n",
       "      <td>NaN</td>\n",
       "      <td>NaN</td>\n",
       "      <td>0.693660</td>\n",
       "      <td>NaN</td>\n",
       "      <td>0.095367</td>\n",
       "      <td>1.075193</td>\n",
       "      <td>NaN</td>\n",
       "      <td>0.167596</td>\n",
       "    </tr>\n",
       "    <tr>\n",
       "      <th>14</th>\n",
       "      <td>0.264941</td>\n",
       "      <td>0.244209</td>\n",
       "      <td>NaN</td>\n",
       "      <td>NaN</td>\n",
       "      <td>2.856643</td>\n",
       "      <td>0.398692</td>\n",
       "      <td>NaN</td>\n",
       "      <td>1.218803</td>\n",
       "      <td>0.264715</td>\n",
       "      <td>NaN</td>\n",
       "      <td>NaN</td>\n",
       "      <td>0.090634</td>\n",
       "    </tr>\n",
       "    <tr>\n",
       "      <th>15</th>\n",
       "      <td>0.436326</td>\n",
       "      <td>1.771800</td>\n",
       "      <td>NaN</td>\n",
       "      <td>NaN</td>\n",
       "      <td>1.486633</td>\n",
       "      <td>NaN</td>\n",
       "      <td>1.442474</td>\n",
       "      <td>NaN</td>\n",
       "      <td>0.774550</td>\n",
       "      <td>NaN</td>\n",
       "      <td>0.307993</td>\n",
       "      <td>0.793979</td>\n",
       "    </tr>\n",
       "    <tr>\n",
       "      <th>16</th>\n",
       "      <td>NaN</td>\n",
       "      <td>0.326473</td>\n",
       "      <td>0.024078</td>\n",
       "      <td>NaN</td>\n",
       "      <td>NaN</td>\n",
       "      <td>1.231153</td>\n",
       "      <td>0.439871</td>\n",
       "      <td>NaN</td>\n",
       "      <td>0.627076</td>\n",
       "      <td>0.458895</td>\n",
       "      <td>NaN</td>\n",
       "      <td>NaN</td>\n",
       "    </tr>\n",
       "  </tbody>\n",
       "</table>\n",
       "</div>"
      ],
      "text/plain": [
       "          0         1         2         3         4         5         6   \\\n",
       "0        NaN  0.199613       NaN       NaN       NaN  0.672369  0.014872   \n",
       "1        NaN       NaN       NaN  0.479778       NaN       NaN  0.793882   \n",
       "2        NaN       NaN  0.466514       NaN  0.392564       NaN       NaN   \n",
       "3   1.065329  0.761578  1.411689       NaN       NaN  0.078112  0.987842   \n",
       "4   0.170736  0.986005       NaN  1.996517       NaN  0.184788  0.251123   \n",
       "5   0.017775  1.044958  1.629828       NaN  0.781419       NaN       NaN   \n",
       "6   0.742156       NaN       NaN  0.110549       NaN       NaN       NaN   \n",
       "7   0.044793  0.884929       NaN       NaN       NaN  0.275956  0.883193   \n",
       "8        NaN  0.814576       NaN       NaN  0.840941  0.529366  0.916085   \n",
       "9        NaN  0.902647  0.788422       NaN       NaN       NaN  1.014236   \n",
       "10       NaN       NaN  0.475467       NaN       NaN       NaN  1.200573   \n",
       "11       NaN       NaN  0.441281       NaN  0.343866  0.457903       NaN   \n",
       "12  0.369572  1.366119  1.242936  0.765719       NaN       NaN  0.762103   \n",
       "13  0.000105       NaN       NaN  0.349155       NaN       NaN  0.693660   \n",
       "14  0.264941  0.244209       NaN       NaN  2.856643  0.398692       NaN   \n",
       "15  0.436326  1.771800       NaN       NaN  1.486633       NaN  1.442474   \n",
       "16       NaN  0.326473  0.024078       NaN       NaN  1.231153  0.439871   \n",
       "\n",
       "          7         8         9         10        11  \n",
       "0        NaN  1.165672  1.167680       NaN       NaN  \n",
       "1   1.053494  0.358845       NaN       NaN       NaN  \n",
       "2        NaN       NaN  0.016407  0.125013       NaN  \n",
       "3   0.706774  1.142488       NaN       NaN  0.422783  \n",
       "4   1.025817       NaN       NaN       NaN       NaN  \n",
       "5        NaN       NaN       NaN  0.909923  1.480481  \n",
       "6        NaN  1.324470       NaN  0.952122  0.602388  \n",
       "7        NaN  1.108868       NaN  0.525370       NaN  \n",
       "8   0.337038       NaN       NaN  0.680907       NaN  \n",
       "9        NaN       NaN  0.040980       NaN  1.208247  \n",
       "10  1.927783  0.130313  1.462440  0.726165       NaN  \n",
       "11       NaN  0.908290       NaN       NaN  0.881476  \n",
       "12       NaN       NaN  1.367570       NaN  0.624005  \n",
       "13       NaN  0.095367  1.075193       NaN  0.167596  \n",
       "14  1.218803  0.264715       NaN       NaN  0.090634  \n",
       "15       NaN  0.774550       NaN  0.307993  0.793979  \n",
       "16       NaN  0.627076  0.458895       NaN       NaN  "
      ]
     },
     "execution_count": 46,
     "metadata": {},
     "output_type": "execute_result"
    }
   ],
   "source": [
    "# Making a bigger DataFrame to help visualize the above point\n",
    "dfBig = pd.DataFrame(np.random.randn(17,12))\n",
    "dfBig[dfBig > 0]"
   ]
  },
  {
   "cell_type": "markdown",
   "metadata": {},
   "source": [
    "Now, one of the **BEST** things about pandas is its ability to read in large files very easily. No more writing a function just to read in a file. Furthermore, it allows for any type of delimiter or EOL character, and will even read in column headers and indices if requested. Given a tab-delimited file, loading the file into the `DataFrame` is a one-liner:"
   ]
  },
  {
   "cell_type": "code",
   "execution_count": 48,
   "metadata": {
    "collapsed": false
   },
   "outputs": [],
   "source": [
    "# Not going to run this since this file doesn't exist\n",
    "# When GitHub compiles this, it will look like an error\n",
    "example = pd.read_csv('example_file.tab', delimiter = \"\\t\")"
   ]
  },
  {
   "cell_type": "markdown",
   "metadata": {},
   "source": [
    "Now comes the fun computation part. Again, these methods operate just like R or Numpy."
   ]
  },
  {
   "cell_type": "code",
   "execution_count": 51,
   "metadata": {
    "collapsed": false
   },
   "outputs": [
    {
     "data": {
      "text/plain": [
       "-0.6652359406726769"
      ]
     },
     "execution_count": 51,
     "metadata": {},
     "output_type": "execute_result"
    }
   ],
   "source": [
    "dfBig.sum(axis=1).mean() # sum across the row, then take the mean of the sums"
   ]
  },
  {
   "cell_type": "markdown",
   "metadata": {},
   "source": [
    "Furthermore, plotting is crazy easy if you import `matplotlib` (which is historically difficult to initialize at first). For example:"
   ]
  },
  {
   "cell_type": "code",
   "execution_count": 54,
   "metadata": {
    "collapsed": false
   },
   "outputs": [
    {
     "data": {
      "image/png": "[encoded data removed]",
      "text/plain": [
       "<matplotlib.figure.Figure at 0x26a8774fac8>"
      ]
     },
     "metadata": {},
     "output_type": "display_data"
    }
   ],
   "source": [
    "dfBig.sum(axis=1).plot()\n",
    "plt.show()"
   ]
  },
  {
   "cell_type": "markdown",
   "metadata": {},
   "source": [
    "Hopefully, this may not seem like a *huge* change in regular data wrangling, and makes some things *much* easier. However, the broadcasting capability of Pandas will be **fully** utilized in next week's package."
   ]
  }
 ],
 "metadata": {
  "anaconda-cloud": {},
  "kernelspec": {
   "display_name": "Python [conda root]",
   "language": "python",
   "name": "conda-root-py"
  },
  "language_info": {
   "codemirror_mode": {
    "name": "ipython",
    "version": 3
   },
   "file_extension": ".py",
   "mimetype": "text/x-python",
   "name": "python",
   "nbconvert_exporter": "python",
   "pygments_lexer": "ipython3",
   "version": "3.5.2"
  }
 },
 "nbformat": 4,
 "nbformat_minor": 2
}
